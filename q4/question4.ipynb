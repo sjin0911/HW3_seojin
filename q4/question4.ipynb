{
 "cells": [
  {
   "cell_type": "code",
   "execution_count": 1,
   "id": "9ca26c3f",
   "metadata": {},
   "outputs": [
    {
     "name": "stdout",
     "output_type": "stream",
     "text": [
      "1\n",
      "2\n",
      "24\n",
      "720\n",
      "40320\n",
      "3628800\n",
      "479001600\n",
      "87178291200\n"
     ]
    }
   ],
   "source": [
    "def factorial(x):\n",
    "    if x>=1:\n",
    "        return x*factorial(x-1);\n",
    "    else: \n",
    "        return 1;\n",
    "    \n",
    "def main():\n",
    "    for i in range(0,15,2):\n",
    "        print(factorial(i))\n",
    "if __name__ == '__main__':\n",
    "    \n",
    "    main()"
   ]
  },
  {
   "cell_type": "code",
   "execution_count": null,
   "id": "be9bba20",
   "metadata": {},
   "outputs": [],
   "source": []
  }
 ],
 "metadata": {
  "kernelspec": {
   "display_name": "Python 3 (ipykernel)",
   "language": "python",
   "name": "python3"
  },
  "language_info": {
   "codemirror_mode": {
    "name": "ipython",
    "version": 3
   },
   "file_extension": ".py",
   "mimetype": "text/x-python",
   "name": "python",
   "nbconvert_exporter": "python",
   "pygments_lexer": "ipython3",
   "version": "3.9.6"
  }
 },
 "nbformat": 4,
 "nbformat_minor": 5
}
