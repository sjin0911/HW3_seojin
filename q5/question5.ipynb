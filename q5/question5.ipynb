{
 "cells": [
  {
   "cell_type": "code",
   "execution_count": 10,
   "id": "65938c49",
   "metadata": {},
   "outputs": [
    {
     "name": "stdout",
     "output_type": "stream",
     "text": [
      "input:   Two roads diverged in a yellow wood, And sorry I could not travel both And be one traveler, long I stood And looked down one as far as I could To where it bent in the undergrowth\n",
      "\n",
      "output: undergrowth the in bent it where To could I as far as one down looked And stood I long traveler, one be And both travel not could I sorry And wood, yellow a in diverged roads Two \n"
     ]
    }
   ],
   "source": [
    "def reverse_words(str):\n",
    "    list=str.split()\n",
    "    newstr=\"\"\n",
    "    for i in range(1,len(list)+1):\n",
    "        newstr=newstr+list[len(list)-i]+\" \"\n",
    "    return newstr\n",
    "        \n",
    "def main():\n",
    "    str=\"Two roads diverged in a yellow wood, And sorry I could not travel both And be one traveler, long I stood And looked down one as far as I could To where it bent in the undergrowth\"\n",
    "    newstr=reverse_words(str)\n",
    "    print(\"input:   \"+str+\"\\n\\noutput: \"+newstr)\n",
    "\n",
    "if __name__ == '__main__':\n",
    " \n",
    "    main()"
   ]
  },
  {
   "cell_type": "code",
   "execution_count": null,
   "id": "22a956af",
   "metadata": {},
   "outputs": [],
   "source": []
  }
 ],
 "metadata": {
  "kernelspec": {
   "display_name": "Python 3 (ipykernel)",
   "language": "python",
   "name": "python3"
  },
  "language_info": {
   "codemirror_mode": {
    "name": "ipython",
    "version": 3
   },
   "file_extension": ".py",
   "mimetype": "text/x-python",
   "name": "python",
   "nbconvert_exporter": "python",
   "pygments_lexer": "ipython3",
   "version": "3.9.7"
  }
 },
 "nbformat": 4,
 "nbformat_minor": 5
}
